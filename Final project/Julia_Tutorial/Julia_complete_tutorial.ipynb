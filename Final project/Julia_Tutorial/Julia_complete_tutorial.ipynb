{
  "cells": [
    {
      "cell_type": "markdown",
      "metadata": {
        "id": "arNrbKHsKB4B"
      },
      "source": [
        "# Julia Programming Tutorial\n",
        "\n",
        "Julia is a modern programming language designed specifically for scientific computing that solves the \"two-language problem\" in scientific computing.\n",
        "\n",
        "What is the two-language problem?\n",
        "* Researchers prototype in a slow language (Python/MATLAB)\n",
        "* Then rewrite in a fast language (C++) for production\n",
        "* Julia eliminates this need by providing both in one language\n",
        "\n",
        "Key Features:\n",
        "* High-level syntax (like Python)\n",
        "* High performance (like C/C++)\n",
        "* Dynamic programming\n",
        "* Just-in-time (JIT) compilation"
      ]
    },
    {
      "cell_type": "markdown",
      "metadata": {
        "id": "y0jRyL_KKB4G"
      },
      "source": [
        "# Core Advantages\n",
        "\n",
        "1. Performance:\n",
        "- Nearly as fast as C/C++\n",
        "- No need to rewrite code for speed\n",
        "- Built-in parallel processing\n",
        "\n",
        "2. Ease of Use:\n",
        "- Similar to Python/MATLAB syntax\n",
        "- Interactive development\n",
        "- Built-in package manager\n",
        "\n",
        "3. Modern Features:\n",
        "- Multiple dispatch (core feature)\n",
        "- Unicode support\n",
        "- Free and open-source"
      ]
    },
    {
      "cell_type": "markdown",
      "metadata": {
        "id": "-3MfPHpV39se"
      },
      "source": [
        "---"
      ]
    },
    {
      "cell_type": "markdown",
      "metadata": {
        "id": "nIgQdFxFEUzI"
      },
      "source": [
        "## Installation\n",
        "Let's start by installing Julia.\n"
      ]
    },
    {
      "cell_type": "code",
      "execution_count": 36,
      "metadata": {
        "colab": {
          "base_uri": "https://localhost:8080/"
        },
        "collapsed": true,
        "id": "Lg5il264KB4G",
        "outputId": "b7fa3bc9-1cf4-40f9-bcc2-2897748a2f31"
      },
      "outputs": [
        {
          "output_type": "stream",
          "name": "stdout",
          "text": [
            "Julia is already installed\n"
          ]
        },
        {
          "output_type": "execute_result",
          "data": {
            "text/plain": []
          },
          "metadata": {},
          "execution_count": 36
        }
      ],
      "source": [
        "# @title Robust Installation with Error Handling\n",
        "%%shell\n",
        "set -e\n",
        "\n",
        "#---------------------------------------------------#\n",
        "JULIA_VERSION=\"1.9.3\"    # Latest stable version\n",
        "JULIA_PACKAGES=\"IJulia Plots BenchmarkTools DataFrames Statistics\"\n",
        "JULIA_NUM_THREADS=4\n",
        "#---------------------------------------------------#\n",
        "\n",
        "if [ -z `which julia` ]; then\n",
        "    # Install Julia\n",
        "    echo \"Installing Julia $JULIA_VERSION...\"\n",
        "    wget -q \"https://julialang-s3.julialang.org/bin/linux/x64/1.9/julia-$JULIA_VERSION-linux-x86_64.tar.gz\"\n",
        "    tar -xzf julia-$JULIA_VERSION-linux-x86_64.tar.gz -C /usr/local --strip-components 1\n",
        "    rm julia-$JULIA_VERSION-linux-x86_64.tar.gz\n",
        "\n",
        "    # Install required packages\n",
        "    echo \"Installing packages...\"\n",
        "    for PKG in $JULIA_PACKAGES; do\n",
        "        echo \"Installing $PKG...\"\n",
        "        julia -e \"using Pkg; Pkg.add(\\\"$PKG\\\"); using $PKG\"\n",
        "    done\n",
        "\n",
        "    echo \"Installation complete! Ready to use Julia.\"\n",
        "else\n",
        "    echo \"Julia is already installed\"\n",
        "fi"
      ]
    },
    {
      "cell_type": "code",
      "execution_count": 37,
      "metadata": {
        "colab": {
          "base_uri": "https://localhost:8080/"
        },
        "id": "_n2sQDfANxZ8",
        "outputId": "3f2a161c-5111-45dc-af7d-2f1eebcf2038"
      },
      "outputs": [
        {
          "output_type": "stream",
          "name": "stdout",
          "text": [
            "julia version 1.9.3\n"
          ]
        },
        {
          "output_type": "execute_result",
          "data": {
            "text/plain": []
          },
          "metadata": {},
          "execution_count": 37
        }
      ],
      "source": [
        "%%shell\n",
        "julia --version"
      ]
    },
    {
      "cell_type": "code",
      "execution_count": 23,
      "metadata": {
        "colab": {
          "base_uri": "https://localhost:8080/"
        },
        "collapsed": true,
        "id": "ovBtHytckdl_",
        "outputId": "6a2d7b2b-098e-47bb-eda9-1b052b334810"
      },
      "outputs": [
        {
          "output_type": "stream",
          "name": "stdout",
          "text": [
            "\u001b[32m\u001b[1m    Updating\u001b[22m\u001b[39m registry at `~/.julia/registries/General.toml`\n",
            "\u001b[?25h\u001b[2K\u001b[32m\u001b[1m   Resolving\u001b[22m\u001b[39m package versions...\n",
            "\u001b[32m\u001b[1m  No Changes\u001b[22m\u001b[39m to `~/.julia/environments/v1.9/Project.toml`\n",
            "\u001b[32m\u001b[1m  No Changes\u001b[22m\u001b[39m to `~/.julia/environments/v1.9/Manifest.toml`\n",
            "\u001b[?25l\u001b[?25h\u001b[2K\u001b[?25h"
          ]
        }
      ],
      "source": [
        "!julia -e 'using Pkg; Pkg.add(\"IJulia\")'"
      ]
    },
    {
      "cell_type": "code",
      "execution_count": 7,
      "metadata": {
        "id": "MFuUfRobRFte"
      },
      "outputs": [],
      "source": [
        "from IPython.core.magic import register_cell_magic\n",
        "from subprocess import getoutput\n",
        "\n",
        "@register_cell_magic\n",
        "def julia(line, cell):\n",
        "    script = cell.replace(\"'\", \"'\\\\''\")\n",
        "    result = getoutput(f\"julia -e '{script}'\")\n",
        "    print(result)"
      ]
    },
    {
      "cell_type": "code",
      "execution_count": 38,
      "metadata": {
        "colab": {
          "base_uri": "https://localhost:8080/"
        },
        "id": "yIvdBvFMg2X8",
        "outputId": "c1d8abac-1d58-4b8f-ab4d-dd2a8a87cd89"
      },
      "outputs": [
        {
          "output_type": "stream",
          "name": "stdout",
          "text": [
            "This is a test\n"
          ]
        }
      ],
      "source": [
        "%%julia\n",
        "# Interactive help examples\n",
        "methods(println)\n",
        "println(\"This is a test\")"
      ]
    },
    {
      "cell_type": "markdown",
      "metadata": {
        "id": "IU_XDttL3nOD"
      },
      "source": [
        "---"
      ]
    },
    {
      "cell_type": "markdown",
      "metadata": {
        "id": "VMHfbirAYLYk"
      },
      "source": [
        "# Variables and Basic Types\n",
        "\n",
        "Julia supports multiple variable types:\n",
        "\n",
        "1. Numeric Types:\n",
        "- Integers (Int64, Int32)\n",
        "- Floating-point (Float64, Float32)\n",
        "- Complex numbers\n",
        "\n",
        "2. Text Types:\n",
        "- Strings (text)\n",
        "- Characters (single letters)\n",
        "\n",
        "3. Logical Type:\n",
        "- Boolean (true/false)\n",
        "\n",
        "Special Feature: Unicode Support\n",
        "You can use Greek letters in variable names:\n",
        "α (alpha) for significance levels\n",
        "β (beta) for coefficients"
      ]
    },
    {
      "cell_type": "markdown",
      "metadata": {
        "id": "yztSDxYHKB4G"
      },
      "source": [
        "## Basic Data Types and Operations\n"
      ]
    },
    {
      "cell_type": "code",
      "execution_count": 39,
      "metadata": {
        "colab": {
          "base_uri": "https://localhost:8080/"
        },
        "id": "cYMfdwuObUSG",
        "outputId": "c239107a-1cfd-431e-f4f7-8c85392f6fc3"
      },
      "outputs": [
        {
          "output_type": "stream",
          "name": "stdout",
          "text": [
            "Types of variables:\n",
            "x (44): Int64\n",
            "y (3.14): Float64\n",
            "z (1 + 2im): Complex{Int64}\n"
          ]
        }
      ],
      "source": [
        "%%julia\n",
        "# Numbers\n",
        "x = 44              # Integer\n",
        "y = 3.14           # Float\n",
        "z = 1 + 2im        # Complex number\n",
        "\n",
        "println(\"Types of variables:\")\n",
        "println(\"x ($(x)): \", typeof(x))\n",
        "println(\"y ($(y)): \", typeof(y))\n",
        "println(\"z ($(z)): \", typeof(z))"
      ]
    },
    {
      "cell_type": "code",
      "execution_count": 40,
      "metadata": {
        "colab": {
          "base_uri": "https://localhost:8080/"
        },
        "id": "GovV-YoaKB4G",
        "outputId": "f526bfad-6def-416a-edba-f9140f6ce74c"
      },
      "outputs": [
        {
          "output_type": "stream",
          "name": "stdout",
          "text": [
            "Patient Status:\n",
            "ID: P12345\n",
            "Heart Rate: 72 bpm\n",
            "Temperature: 37.2 °C\n",
            "Hypertensive: false\n",
            "ECG Signal: 1.2 + 0.5im\n"
          ]
        }
      ],
      "source": [
        "%%julia\n",
        "#Shows different variable types\n",
        "# Basic biomedical data types\n",
        "patient_id = \"P12345\"                # String\n",
        "heart_rate = 72                      # Int64\n",
        "body_temp = 37.2                     # Float64\n",
        "is_hypertensive = false              # Bool\n",
        "ecg_signal = 1.2 + 0.5im            # Complex - for signal processing\n",
        "\n",
        "# Print with formatted string\n",
        "println(\"Patient Status:\")\n",
        "println(\"ID: $patient_id\")\n",
        "println(\"Heart Rate: $heart_rate bpm\")\n",
        "println(\"Temperature: $body_temp °C\")\n",
        "println(\"Hypertensive: $is_hypertensive\")\n",
        "println(\"ECG Signal: $(ecg_signal)\")"
      ]
    },
    {
      "cell_type": "markdown",
      "metadata": {
        "id": "DaSnqUOa32sw"
      },
      "source": [
        "---"
      ]
    },
    {
      "cell_type": "markdown",
      "metadata": {
        "id": "RBMofLAjPtRN"
      },
      "source": [
        "\n",
        "#Arithmetic Operators\n",
        "The following arithmetic operators are supported on all primitive numeric types:\n",
        "\n",
        "![image.png](data:image/png;base64,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)\n"
      ]
    },
    {
      "cell_type": "markdown",
      "metadata": {
        "id": "DypZidDX2x_W"
      },
      "source": [
        "---"
      ]
    },
    {
      "cell_type": "markdown",
      "metadata": {
        "id": "Q9MzrTYDcs37"
      },
      "source": [
        "## Data Structures\n",
        "\n",
        "Julia provides several built-in data structures:\n",
        "1. Arrays (1D, 2D, and N-dimensional)\n",
        "2. Dictionaries (key-value pairs)\n",
        "3. Custom Structures (using struct)"
      ]
    },
    {
      "cell_type": "code",
      "execution_count": 41,
      "metadata": {
        "id": "IOywpbROKB4H",
        "colab": {
          "base_uri": "https://localhost:8080/"
        },
        "outputId": "7a74a922-56f0-49c9-e46d-4374269a644e"
      },
      "outputs": [
        {
          "output_type": "stream",
          "name": "stdout",
          "text": [
            "Vital Signs: [98.6, 72.0, 1.5]\n",
            "\n",
            "Lab Results Matrix:\n",
            "[1.2 2.3 3.4; 4.5 5.6 6.7]\n",
            "\n",
            "Patient Info:\n",
            "Dict{String, Any}(\"name\" => \"John Doe\", \"blood_type\" => \"O+\", \"age\" => 45)\n"
          ]
        }
      ],
      "source": [
        "%%julia\n",
        "# Arrays and basic operations\n",
        "# 1D Array (Vector)\n",
        "vital_signs = [98.6, 72, 120/80]\n",
        "println(\"Vital Signs: \", vital_signs)\n",
        "\n",
        "# 2D Array (Matrix)\n",
        "lab_results = [\n",
        "    1.2  2.3  3.4;\n",
        "    4.5  5.6  6.7\n",
        "]\n",
        "println(\"\\nLab Results Matrix:\")\n",
        "println(lab_results)\n",
        "\n",
        "# Dictionary\n",
        "patient = Dict(\n",
        "    \"name\" => \"John Doe\",\n",
        "    \"age\" => 45,\n",
        "    \"blood_type\" => \"O+\"  # instead of Python :\n",
        ")\n",
        "println(\"\\nPatient Info:\")\n",
        "println(patient)"
      ]
    },
    {
      "cell_type": "markdown",
      "metadata": {
        "id": "8xOE6NaG3SoH"
      },
      "source": [
        "---"
      ]
    },
    {
      "cell_type": "markdown",
      "metadata": {
        "id": "AtSnzy-DdU17"
      },
      "source": [
        "## Control Flow\n",
        "\n",
        "Julia uses familiar control flow structures:\n",
        "1. Conditional statements (if-elseif-else)\n",
        "2. Loops (for, while)\n",
        "3. Functions with multiple dispatch"
      ]
    },
    {
      "cell_type": "code",
      "execution_count": 42,
      "metadata": {
        "colab": {
          "base_uri": "https://localhost:8080/"
        },
        "id": "YAI4aPNkKB4H",
        "outputId": "eaf3766e-eb28-4b2a-db06-de7c1f69e98f"
      },
      "outputs": [
        {
          "output_type": "stream",
          "name": "stdout",
          "text": [
            "Grades:\n",
            "95 points = A\n",
            "85 points = B\n",
            "65 points = F\n"
          ]
        }
      ],
      "source": [
        "%%julia\n",
        "### 1. Conditional Statements (if-elseif-else) ###\n",
        "function grade_score(score)\n",
        "    if score >= 90\n",
        "        return \"A\"\n",
        "    elseif score >= 80\n",
        "        return \"B\"\n",
        "    elseif score >= 70\n",
        "        return \"C\"\n",
        "    else\n",
        "        return \"F\"\n",
        "    end\n",
        "end\n",
        "\n",
        "# Test the conditional function\n",
        "println(\"Grades:\")\n",
        "println(\"95 points = $(grade_score(95))\")\n",
        "println(\"85 points = $(grade_score(85))\")\n",
        "println(\"65 points = $(grade_score(65))\")"
      ]
    },
    {
      "cell_type": "code",
      "execution_count": 43,
      "metadata": {
        "colab": {
          "base_uri": "https://localhost:8080/"
        },
        "id": "eqcaAn8QeUcB",
        "outputId": "522410a6-68b9-4f44-d6e0-e9d167c1b335"
      },
      "outputs": [
        {
          "output_type": "stream",
          "name": "stdout",
          "text": [
            "For Loop - Counting 1 to 5:\n",
            "1\n",
            "2\n",
            "3\n",
            "4\n",
            "5\n",
            "\n",
            "While Loop - Count until reaching 10:\n",
            "Sum is now: 2\n",
            "Sum is now: 4\n",
            "Sum is now: 6\n",
            "Sum is now: 8\n",
            "Sum is now: 10\n"
          ]
        }
      ],
      "source": [
        "%%julia\n",
        "### 2. Loops ###\n",
        "# Loop example\n",
        "println(\"For Loop - Counting 1 to 5:\")\n",
        "for i in 1:5   # Julia way for running this loop 5 times\n",
        "    println(i)\n",
        "end\n",
        "\n",
        "# While Loop example\n",
        "println(\"\\nWhile Loop - Count until reaching 10:\")\n",
        "sum = 0\n",
        "while sum < 10\n",
        "    global sum += 2\n",
        "    println(\"Sum is now: $sum\")\n",
        "end"
      ]
    },
    {
      "cell_type": "code",
      "execution_count": 44,
      "metadata": {
        "colab": {
          "base_uri": "https://localhost:8080/"
        },
        "id": "CwA4tQYEehy0",
        "outputId": "7a0f69e0-6411-4768-a297-d176500cb772"
      },
      "outputs": [
        {
          "output_type": "stream",
          "name": "stdout",
          "text": [
            "Adding bonus to different types:\n",
            "Processing integer score...\n",
            "Integer score 80: 85\n",
            "Processing float score...\n",
            "Float score 85.5: 88.0\n"
          ]
        }
      ],
      "source": [
        "%%julia\n",
        "### 3. Functions with Multiple Dispatch ###\n",
        "# Function that handles different types\n",
        "function add_bonus(score::Int64)\n",
        "    println(\"Processing integer score...\")\n",
        "    return score + 5\n",
        "end\n",
        "\n",
        "function add_bonus(score::Float64)\n",
        "    println(\"Processing float score...\")\n",
        "    return score + 2.5\n",
        "end\n",
        "\n",
        "# Test multiple dispatch\n",
        "println(\"Adding bonus to different types:\")\n",
        "println(\"Integer score 80: $(add_bonus(80))\")\n",
        "println(\"Float score 85.5: $(add_bonus(85.5))\")"
      ]
    },
    {
      "cell_type": "markdown",
      "metadata": {
        "id": "Rpcb4Io63oCd"
      },
      "source": [
        "---"
      ]
    },
    {
      "cell_type": "markdown",
      "metadata": {
        "id": "CI0L9Y1CKB4H"
      },
      "source": [
        "## Data Visualization\n",
        "\n",
        "Set up plotting using PyPlot backend:"
      ]
    },
    {
      "cell_type": "code",
      "execution_count": 11,
      "metadata": {
        "colab": {
          "base_uri": "https://localhost:8080/"
        },
        "collapsed": true,
        "id": "O99WzThhjFIT",
        "outputId": "e0a3d713-6ce1-4e77-b6e9-1cd3f2e683cf"
      },
      "outputs": [
        {
          "output_type": "stream",
          "name": "stdout",
          "text": [
            "Reading package lists... Done\n",
            "Building dependency tree... Done\n",
            "Reading state information... Done\n",
            "python3-tk is already the newest version (3.10.8-1~22.04).\n",
            "0 upgraded, 0 newly installed, 0 to remove and 49 not upgraded.\n"
          ]
        }
      ],
      "source": [
        "!apt-get install python3-tk"
      ]
    },
    {
      "cell_type": "code",
      "execution_count": 45,
      "metadata": {
        "colab": {
          "base_uri": "https://localhost:8080/"
        },
        "collapsed": true,
        "id": "cCasDSnw0Z0f",
        "outputId": "1dc09604-a1d7-498d-a721-24d8104237cc"
      },
      "outputs": [
        {
          "output_type": "stream",
          "name": "stdout",
          "text": [
            "   Resolving package versions...\n",
            "  No Changes to `~/.julia/environments/v1.9/Project.toml`\n",
            "  No Changes to `~/.julia/environments/v1.9/Manifest.toml`\n"
          ]
        }
      ],
      "source": [
        "%%julia\n",
        "using Pkg\n",
        "Pkg.add([\"Plots\", \"UnicodePlots\"])"
      ]
    },
    {
      "cell_type": "code",
      "execution_count": 32,
      "metadata": {
        "colab": {
          "base_uri": "https://localhost:8080/"
        },
        "id": "8WZaEUcJlQyx",
        "outputId": "22b6dd35-24cb-481d-f54e-fb3dbadf8e90"
      },
      "outputs": [
        {
          "output_type": "stream",
          "name": "stdout",
          "text": [
            "   Resolving package versions...\n",
            "   Installed PaddedViews ── v0.5.12\n",
            "   Installed MappedArrays ─ v0.4.2\n",
            "   Installed StackViews ─── v0.1.1\n",
            "   Installed OffsetArrays ─ v1.14.2\n",
            "   Installed MosaicViews ── v0.3.4\n",
            "   Installed FileIO ─────── v1.16.6\n",
            "   Installed ImageShow ──── v0.3.8\n",
            "   Installed ImageCore ──── v0.10.5\n",
            "   Installed ImageBase ──── v0.1.7\n",
            "    Updating `~/.julia/environments/v1.9/Project.toml`\n",
            "  [5789e2e9] + FileIO v1.16.6\n",
            "  [4e3cecfd] + ImageShow v0.3.8\n",
            "    Updating `~/.julia/environments/v1.9/Manifest.toml`\n",
            "  [5789e2e9] + FileIO v1.16.6\n",
            "  [c817782e] + ImageBase v0.1.7\n",
            "  [a09fc81d] + ImageCore v0.10.5\n",
            "  [4e3cecfd] + ImageShow v0.3.8\n",
            "  [dbb5928d] + MappedArrays v0.4.2\n",
            "  [e94cdb99] + MosaicViews v0.3.4\n",
            "  [6fe1bfb0] + OffsetArrays v1.14.2\n",
            "  [5432bcbf] + PaddedViews v0.5.12\n",
            "  [cae243ae] + StackViews v0.1.1\n",
            "Precompiling project...\n",
            "\u001b[32m  ✓ \u001b[39m\u001b[90mMappedArrays\u001b[39m\n",
            "\u001b[32m  ✓ \u001b[39m\u001b[90mOffsetArrays\u001b[39m\n",
            "\u001b[32m  ✓ \u001b[39m\u001b[90mStackViews\u001b[39m\n",
            "\u001b[32m  ✓ \u001b[39m\u001b[90mPaddedViews\u001b[39m\n",
            "\u001b[32m  ✓ \u001b[39m\u001b[90mMosaicViews\u001b[39m\n",
            "\u001b[32m  ✓ \u001b[39mFileIO\n",
            "\u001b[32m  ✓ \u001b[39m\u001b[90mFileIO → HTTPExt\u001b[39m\n",
            "\u001b[32m  ✓ \u001b[39m\u001b[90mPlots → FileIOExt\u001b[39m\n",
            "\u001b[32m  ✓ \u001b[39m\u001b[90mImageCore\u001b[39m\n",
            "\u001b[32m  ✓ \u001b[39m\u001b[90mImageBase\u001b[39m\n",
            "\u001b[32m  ✓ \u001b[39mImageShow\n",
            "  11 dependencies successfully precompiled in 56 seconds. 180 already precompiled.\n"
          ]
        }
      ],
      "source": [
        "%%julia\n",
        "using Pkg\n",
        "Pkg.add([\"Plots\", \"ImageShow\", \"FileIO\"])"
      ]
    },
    {
      "cell_type": "code",
      "execution_count": 46,
      "metadata": {
        "colab": {
          "base_uri": "https://localhost:8080/"
        },
        "id": "yC8NaeZmKB4H",
        "outputId": "7f03ccee-bfaf-44c8-e496-34a3c3015121"
      },
      "outputs": [
        {
          "output_type": "stream",
          "name": "stdout",
          "text": [
            "GKS: cannot open display - headless operation mode active\n"
          ]
        }
      ],
      "source": [
        "%%julia\n",
        "using Plots\n",
        "\n",
        "# Generate points for sine wave\n",
        "x = 0:0.1:10\n",
        "y = sin.(x)\n",
        "\n",
        "# Create the plot\n",
        "p = plot(x, y,\n",
        "    title=\"Sine Wave\",\n",
        "    xlabel=\"x\",\n",
        "    ylabel=\"sin(x)\",\n",
        "    label=\"sin(x)\",\n",
        "    linewidth=2,\n",
        "    color=:red)\n",
        "\n",
        "# Save the plot\n",
        "savefig(p, \"sine_wave.png\")\n",
        "\n"
      ]
    },
    {
      "cell_type": "code",
      "execution_count": 47,
      "metadata": {
        "colab": {
          "base_uri": "https://localhost:8080/",
          "height": 417
        },
        "id": "yRUCft3amkJi",
        "outputId": "20b37e41-f991-4172-9c42-37e99cb3685e"
      },
      "outputs": [
        {
          "output_type": "execute_result",
          "data": {
            "image/png": "[encoded data removed]",
            "text/plain": [
              "<IPython.core.display.Image object>"
            ]
          },
          "metadata": {},
          "execution_count": 47
        }
      ],
      "source": [
        "from IPython.display import Image\n",
        "Image(\"sine_wave.png\")"
      ]
    },
    {
      "cell_type": "markdown",
      "metadata": {
        "id": "Ss5OgSJo3tSe"
      },
      "source": [
        "---"
      ]
    },
    {
      "cell_type": "markdown",
      "metadata": {
        "id": "hsNL1gvBKB4I"
      },
      "source": [
        "# Unique Features in Julia\n",
        "\n",
        "Julia has several special features that make it particularly useful for scientific computing:\n",
        "\n",
        "1. Unicode Support\n",
        "   - Can use Greek letters in variable names\n",
        "   - Useful for mathematical and scientific notation\n",
        "   - Type \\alpha + TAB for α, \\beta + TAB for β\n",
        "\n",
        "2. Broadcasting Operations\n",
        "   - Apply functions to arrays using dot notation\n",
        "   - More elegant than traditional loops\n",
        "   - Similar to vectorization in other languages\n"
      ]
    },
    {
      "cell_type": "code",
      "execution_count": 48,
      "metadata": {
        "colab": {
          "base_uri": "https://localhost:8080/"
        },
        "id": "nJj3wLYhw_XM",
        "outputId": "978dfed0-f3ea-4cbb-e737-b29f254ae482"
      },
      "outputs": [
        {
          "output_type": "stream",
          "name": "stdout",
          "text": [
            "Alpha (α) value: 0.05\n",
            "Beta (β) value: 1.5\n",
            "\n",
            "Original numbers: [1, 2, 3, 4]\n",
            "Squared numbers: [1, 4, 9, 16]\n",
            "Doubled numbers: [2, 4, 6, 8]\n"
          ]
        }
      ],
      "source": [
        "%%julia\n",
        "# Unicode variable names\n",
        "α = 0.05  # significance level\n",
        "β = 1.5   # coefficient\n",
        "println(\"Alpha (α) value: $α\")\n",
        "println(\"Beta (β) value: $β\")\n",
        "\n",
        "# broadcasting\n",
        "numbers = [1, 2, 3, 4]\n",
        "squared = numbers.^2\n",
        "println(\"\\nOriginal numbers: $numbers\")\n",
        "println(\"Squared numbers: $squared\")\n",
        "\n",
        "# More broadcasting examples\n",
        "doubled = 2 .* numbers\n",
        "println(\"Doubled numbers: $doubled\")"
      ]
    },
    {
      "cell_type": "markdown",
      "metadata": {
        "id": "NztPlEV8KB4K"
      },
      "source": [
        "# Summary\n",
        "\n",
        "In this tutorial, we learned about Julia, a programming language made for scientific computing. Here's what we covered:\n",
        "\n",
        "The Basics:\n",
        "- How to write and run Julia code\n",
        "- Different types of variables (numbers, text, true/false)\n",
        "- How to create lists (arrays) and dictionaries\n",
        "- Ways to control our program (if statements and loops)\n",
        "\n",
        "Features:\n",
        "- Using Greek letters in variable names (like α and β)\n",
        "- Printing text with variables inside (using $)\n",
        "- Working with arrays and lists easily\n",
        "- Making simple plots\n",
        "\n",
        "Why Julia is Special:\n",
        "- It's as fast as C++ but as easy as Python\n",
        "- You can write mathematical formulas just like you'd write them on paper\n",
        "- It's free and open-source\n",
        "- It works great for scientific calculations\n",
        "\n",
        "\n",
        " Julia is great for scientific work because it combines the best of both worlds - it's easy to write and fast to run!\n",
        "\n",
        "Resources:\n",
        "- Julia Documentation: https://docs.julialang.org\n",
        "- Stack Overflow [julia] tag\n",
        "- BioJulia: https://biojulia.net"
      ]
    }
  ],
  "metadata": {
    "colab": {
      "provenance": []
    },
    "kernelspec": {
      "display_name": "base",
      "language": "python",
      "name": "python3"
    },
    "language_info": {
      "codemirror_mode": {
        "name": "ipython",
        "version": 3
      },
      "file_extension": ".py",
      "mimetype": "text/x-python",
      "name": "python",
      "nbconvert_exporter": "python",
      "pygments_lexer": "ipython3",
      "version": "3.11.7"
    }
  },
  "nbformat": 4,
  "nbformat_minor": 0
}